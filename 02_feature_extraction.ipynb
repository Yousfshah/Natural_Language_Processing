{
 "cells": [
  {
   "cell_type": "markdown",
   "id": "5cc16669",
   "metadata": {},
   "source": [
    "# Feature Extraction / Text Representation"
   ]
  },
  {
   "cell_type": "markdown",
   "id": "c54d7b06",
   "metadata": {},
   "source": [
    "## BOW (Bag of Words)"
   ]
  },
  {
   "cell_type": "code",
   "execution_count": 47,
   "id": "d0de2788",
   "metadata": {},
   "outputs": [
    {
     "name": "stdout",
     "output_type": "stream",
     "text": [
      "Vocabulary: ['and' 'document' 'first' 'is' 'one' 'second' 'the' 'third' 'this']\n",
      "BoW Matrix:\n",
      " [[0 1 1 1 0 0 1 0 1]\n",
      " [0 2 0 1 0 1 1 0 1]\n",
      " [1 0 0 1 1 0 1 1 1]\n",
      " [0 1 1 1 0 0 1 0 1]]\n"
     ]
    }
   ],
   "source": [
    "from sklearn.feature_extraction.text import CountVectorizer\n",
    "\n",
    "def calculate_bow(documents):\n",
    "    # Create a CountVectorizer instance\n",
    "    vectorizer = CountVectorizer()\n",
    "    # Fit the vectorizer to the documents and transform them into BoW vectors\n",
    "    bow_matrix = vectorizer.fit_transform(documents)\n",
    "    # Get the feature names (vocabulary)\n",
    "    vocabulary = vectorizer.get_feature_names_out()\n",
    "\n",
    "    return bow_matrix, vocabulary\n",
    "\n",
    "matrix, vocab = calculate_bow(corpus)\n",
    "\n",
    "print(\"Vocabulary:\", vocab)\n",
    "print(\"BoW Matrix:\\n\", matrix.toarray())"
   ]
  },
  {
   "cell_type": "code",
   "execution_count": null,
   "id": "ae85f0aa",
   "metadata": {},
   "outputs": [],
   "source": []
  },
  {
   "cell_type": "code",
   "execution_count": null,
   "id": "f74a9afd",
   "metadata": {},
   "outputs": [],
   "source": []
  },
  {
   "cell_type": "code",
   "execution_count": null,
   "id": "5f78d8ed",
   "metadata": {},
   "outputs": [],
   "source": []
  },
  {
   "cell_type": "code",
   "execution_count": null,
   "id": "78ebbbba",
   "metadata": {},
   "outputs": [],
   "source": []
  },
  {
   "cell_type": "code",
   "execution_count": null,
   "id": "737d8ad8",
   "metadata": {},
   "outputs": [],
   "source": []
  },
  {
   "cell_type": "code",
   "execution_count": null,
   "id": "e2bb7b31",
   "metadata": {},
   "outputs": [],
   "source": []
  },
  {
   "cell_type": "code",
   "execution_count": null,
   "id": "823fdf4f",
   "metadata": {},
   "outputs": [],
   "source": []
  }
 ],
 "metadata": {
  "kernelspec": {
   "display_name": "Telecom_CC",
   "language": "python",
   "name": "python3"
  },
  "language_info": {
   "codemirror_mode": {
    "name": "ipython",
    "version": 3
   },
   "file_extension": ".py",
   "mimetype": "text/x-python",
   "name": "python",
   "nbconvert_exporter": "python",
   "pygments_lexer": "ipython3",
   "version": "3.10.18"
  }
 },
 "nbformat": 4,
 "nbformat_minor": 5
}
