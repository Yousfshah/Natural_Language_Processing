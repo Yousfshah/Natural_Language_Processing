{
 "cells": [
  {
   "cell_type": "markdown",
   "id": "5cc16669",
   "metadata": {},
   "source": [
    "# Feature Extraction / Text Representation"
   ]
  },
  {
   "cell_type": "markdown",
   "id": "c54d7b06",
   "metadata": {},
   "source": [
    "## BOW (Bag of Words)"
   ]
  },
  {
   "cell_type": "code",
   "execution_count": 58,
   "id": "5c0fabb4",
   "metadata": {},
   "outputs": [],
   "source": [
    "from nltk import word_tokenize\n",
    "from collections import Counter\n",
    "\n",
    "def get_vocabulary(documents):\n",
    "    \"\"\"\n",
    "    Returns a sorted list of unique words from all documents.\n",
    "    \"\"\"\n",
    "    unique_words = set()\n",
    "    for sentence in documents:\n",
    "        tokens = word_tokenize(sentence.lower())\n",
    "        unique_words.update(tokens)\n",
    "    return sorted(unique_words)\n",
    "\n",
    "def bow(documents):\n",
    "    \"\"\"\n",
    "    Builds Bag of Words matrix for input documents using pure Python.\n",
    "\n",
    "    Parameters:\n",
    "    documents (list): A list of strings (documents or sentences).\n",
    "\n",
    "    Returns:\n",
    "    tuple: (vocabulary list, BoW matrix as list of lists)\n",
    "    \"\"\"\n",
    "    vocabulary = get_vocabulary(documents)\n",
    "    bow_matrix = []\n",
    "\n",
    "    for doc in documents:\n",
    "        tokens = word_tokenize(doc.lower())\n",
    "        word_counts = Counter(tokens)\n",
    "        row = [word_counts.get(word, 0) for word in vocabulary]\n",
    "        bow_matrix.append(row)\n",
    "\n",
    "    return vocabulary, bow_matrix\n"
   ]
  },
  {
   "cell_type": "code",
   "execution_count": 60,
   "id": "6238f931",
   "metadata": {},
   "outputs": [
    {
     "name": "stdout",
     "output_type": "stream",
     "text": [
      "Vocabulary: ['am', 'are', 'fine', 'hi', 'how', 'i', 'you']\n",
      "BoW Matrix:\n",
      "[0, 1, 0, 1, 1, 0, 1]\n",
      "[1, 0, 2, 0, 0, 1, 0]\n"
     ]
    }
   ],
   "source": [
    "documents = [\n",
    "    \"Hi how are you\",\n",
    "    \"I am fine fine\"\n",
    "]\n",
    "\n",
    "vocab, matrix = bow(documents)\n",
    "\n",
    "print(\"Vocabulary:\", vocab)\n",
    "print(\"BoW Matrix:\")\n",
    "for row in matrix:\n",
    "    print(row)\n"
   ]
  },
  {
   "cell_type": "code",
   "execution_count": 61,
   "id": "bf351234",
   "metadata": {},
   "outputs": [],
   "source": [
    "bow_matrix = []\n",
    "vocabulary = get_vocabulary(documents)\n",
    "documents = [\n",
    "    \"Hi how are you\",\n",
    "    \"I am fine fine\"\n",
    "]\n",
    "\n",
    "for doc in documents:\n",
    "    tokens = word_tokenize(doc.lower())\n",
    "    word_counts = Counter(tokens)\n",
    "    row = [word_counts.get(word, 0) for word in vocabulary]\n",
    "    bow_matrix.append(row)"
   ]
  },
  {
   "cell_type": "code",
   "execution_count": 68,
   "id": "34c51d2f",
   "metadata": {},
   "outputs": [
    {
     "data": {
      "text/plain": [
       "Counter({'fine': 2, 'i': 1, 'am': 1})"
      ]
     },
     "execution_count": 68,
     "metadata": {},
     "output_type": "execute_result"
    }
   ],
   "source": [
    "word_counts"
   ]
  },
  {
   "cell_type": "code",
   "execution_count": 69,
   "id": "eb42afb7",
   "metadata": {},
   "outputs": [
    {
     "data": {
      "text/plain": [
       "2"
      ]
     },
     "execution_count": 69,
     "metadata": {},
     "output_type": "execute_result"
    }
   ],
   "source": [
    "word_counts.get('fine')"
   ]
  },
  {
   "cell_type": "code",
   "execution_count": null,
   "id": "da9ac4de",
   "metadata": {},
   "outputs": [],
   "source": []
  },
  {
   "cell_type": "code",
   "execution_count": null,
   "id": "e2470610",
   "metadata": {},
   "outputs": [],
   "source": []
  }
 ],
 "metadata": {
  "kernelspec": {
   "display_name": "NLP-Env",
   "language": "python",
   "name": "python3"
  },
  "language_info": {
   "codemirror_mode": {
    "name": "ipython",
    "version": 3
   },
   "file_extension": ".py",
   "mimetype": "text/x-python",
   "name": "python",
   "nbconvert_exporter": "python",
   "pygments_lexer": "ipython3",
   "version": "3.12.11"
  }
 },
 "nbformat": 4,
 "nbformat_minor": 5
}
